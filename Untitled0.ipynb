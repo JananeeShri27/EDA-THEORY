{
  "nbformat": 4,
  "nbformat_minor": 0,
  "metadata": {
    "colab": {
      "provenance": [],
      "authorship_tag": "ABX9TyOgGzkSL3VenX2NKd3MGDTv",
      "include_colab_link": true
    },
    "kernelspec": {
      "name": "python3",
      "display_name": "Python 3"
    },
    "language_info": {
      "name": "python"
    }
  },
  "cells": [
    {
      "cell_type": "markdown",
      "metadata": {
        "id": "view-in-github",
        "colab_type": "text"
      },
      "source": [
        "<a href=\"https://colab.research.google.com/github/JananeeShri27/EDA-THEORY/blob/main/Untitled0.ipynb\" target=\"_parent\"><img src=\"https://colab.research.google.com/assets/colab-badge.svg\" alt=\"Open In Colab\"/></a>"
      ]
    },
    {
      "cell_type": "code",
      "execution_count": 37,
      "metadata": {
        "id": "boGgYw94rnE9",
        "colab": {
          "base_uri": "https://localhost:8080/"
        },
        "outputId": "aa1a9011-9a17-47bd-f121-727df46169a3"
      },
      "outputs": [
        {
          "output_type": "stream",
          "name": "stdout",
          "text": [
            "   rownames  visits  exposure  children  age  income  health1  health2  \\\n",
            "0         1       0       100         1   24  14.500    0.495   -0.854   \n",
            "1         2       1        90         3   19   6.000    0.520   -0.969   \n",
            "2         3       0       106         4   17   8.377   -1.227    0.317   \n",
            "3         4       0       114         2   29   6.000   -1.524    0.457   \n",
            "4         5      11       115         1   26   8.500    0.173   -0.599   \n",
            "\n",
            "   access married  gender ethnicity  school enroll program  \n",
            "0    0.50      no  female      cauc      13    yes    afdc  \n",
            "1    0.17      no  female      cauc      11    yes    afdc  \n",
            "2    0.42      no  female      cauc      12    yes    afdc  \n",
            "3    0.33      no  female      cauc      12    yes    afdc  \n",
            "4    0.67      no  female      cauc      16    yes    afdc  \n"
          ]
        }
      ],
      "source": [
        "import pandas as pd\n",
        "\n",
        "# Load the dataset\n",
        "file_path = '/content/sample_data/Medicaid1986.csv'\n",
        "df = pd.read_csv(file_path)\n",
        "\n",
        "# Display the first few rows of the dataset\n",
        "print(df.head())\n"
      ]
    },
    {
      "cell_type": "code",
      "source": [
        "# Dimensions of the dataset\n",
        "print(\"Dimensions:\", df.shape)\n"
      ],
      "metadata": {
        "colab": {
          "base_uri": "https://localhost:8080/"
        },
        "id": "7NIxFCRdxXXS",
        "outputId": "ed0d1a10-5902-4fec-e1cc-8c8d4bcf7e50"
      },
      "execution_count": 38,
      "outputs": [
        {
          "output_type": "stream",
          "name": "stdout",
          "text": [
            "Dimensions: (996, 15)\n"
          ]
        }
      ]
    },
    {
      "cell_type": "code",
      "source": [
        "# Summary of the dataset\n",
        "print(\"\\nSummary of the dataset:\")\n",
        "print(df.describe())"
      ],
      "metadata": {
        "colab": {
          "base_uri": "https://localhost:8080/"
        },
        "id": "hIfK17jIxdSA",
        "outputId": "f549c5b3-7596-40f2-af21-4536303068a1"
      },
      "execution_count": 39,
      "outputs": [
        {
          "output_type": "stream",
          "name": "stdout",
          "text": [
            "\n",
            "Summary of the dataset:\n",
            "         rownames      visits    exposure    children         age      income  \\\n",
            "count  996.000000  996.000000  996.000000  996.000000  996.000000  996.000000   \n",
            "mean   498.500000    1.930723  104.060241    1.314257   55.205823    8.191302   \n",
            "std    287.664735    3.354472    9.144973    1.509314   24.961373    3.630549   \n",
            "min      1.000000    0.000000   32.000000    0.000000   16.000000    0.500000   \n",
            "25%    249.750000    0.000000   98.000000    0.000000   29.000000    6.000000   \n",
            "50%    498.500000    1.000000  104.000000    1.000000   66.000000    7.990000   \n",
            "75%    747.250000    3.000000  111.000000    2.000000   78.000000    8.500000   \n",
            "max    996.000000   50.000000  120.000000    9.000000  105.000000   17.500000   \n",
            "\n",
            "          health1     health2      access      school  \n",
            "count  996.000000  996.000000  996.000000  996.000000  \n",
            "mean    -0.000013    0.000020    0.398102    9.029116  \n",
            "std      1.436934    0.740226    0.184439    4.353957  \n",
            "min     -2.264000   -2.177000    0.000000    0.000000  \n",
            "25%     -1.151250   -0.472000    0.297500    6.000000  \n",
            "50%     -0.316500   -0.009000    0.420000   10.000000  \n",
            "75%      0.858000    0.347000    0.500000   12.000000  \n",
            "max      7.217000    3.048000    1.000000   18.000000  \n"
          ]
        }
      ]
    },
    {
      "cell_type": "code",
      "source": [
        "# Checking data types\n",
        "print(\"\\nData types of each column:\")\n",
        "print(df.dtypes)"
      ],
      "metadata": {
        "colab": {
          "base_uri": "https://localhost:8080/"
        },
        "id": "usZbjGOjxgmD",
        "outputId": "e4347b11-1eaf-4b58-b605-bfc53e156d89"
      },
      "execution_count": 40,
      "outputs": [
        {
          "output_type": "stream",
          "name": "stdout",
          "text": [
            "\n",
            "Data types of each column:\n",
            "rownames       int64\n",
            "visits         int64\n",
            "exposure       int64\n",
            "children       int64\n",
            "age            int64\n",
            "income       float64\n",
            "health1      float64\n",
            "health2      float64\n",
            "access       float64\n",
            "married       object\n",
            "gender        object\n",
            "ethnicity     object\n",
            "school         int64\n",
            "enroll        object\n",
            "program       object\n",
            "dtype: object\n"
          ]
        }
      ]
    },
    {
      "cell_type": "code",
      "source": [
        "# Check for missing data\n",
        "print(\"Missing values:\\n\", df.isnull().sum())\n",
        "\n",
        "# Drop missing values\n",
        "df_cleaned = df.dropna()\n",
        "\n",
        "# Filling missing data with forward or backward fill\n",
        "df_filled = df.fillna(method='ffill')  # Forward fill\n",
        "df_bfilled = df.fillna(method='bfill')  # Backward fill\n",
        "\n",
        "# Replace missing values with a specific value\n",
        "df_filled_zero = df.fillna(0)\n"
      ],
      "metadata": {
        "colab": {
          "base_uri": "https://localhost:8080/"
        },
        "id": "37keU32ux0JU",
        "outputId": "f59c151b-0d47-4df0-a1bf-243e7c5c7484"
      },
      "execution_count": 41,
      "outputs": [
        {
          "output_type": "stream",
          "name": "stdout",
          "text": [
            "Missing values:\n",
            " rownames     0\n",
            "visits       0\n",
            "exposure     0\n",
            "children     0\n",
            "age          0\n",
            "income       0\n",
            "health1      0\n",
            "health2      0\n",
            "access       0\n",
            "married      0\n",
            "gender       0\n",
            "ethnicity    0\n",
            "school       0\n",
            "enroll       0\n",
            "program      0\n",
            "dtype: int64\n"
          ]
        },
        {
          "output_type": "stream",
          "name": "stderr",
          "text": [
            "<ipython-input-41-e05e9be4d774>:8: FutureWarning: DataFrame.fillna with 'method' is deprecated and will raise in a future version. Use obj.ffill() or obj.bfill() instead.\n",
            "  df_filled = df.fillna(method='ffill')  # Forward fill\n",
            "<ipython-input-41-e05e9be4d774>:9: FutureWarning: DataFrame.fillna with 'method' is deprecated and will raise in a future version. Use obj.ffill() or obj.bfill() instead.\n",
            "  df_bfilled = df.fillna(method='bfill')  # Backward fill\n"
          ]
        }
      ]
    },
    {
      "cell_type": "code",
      "source": [
        "# Check for duplicate rows\n",
        "print(\"\\nDuplicate rows:\", df.duplicated().sum())\n",
        "\n",
        "# Drop duplicate rows\n",
        "df_no_duplicates = df.drop_duplicates()\n"
      ],
      "metadata": {
        "colab": {
          "base_uri": "https://localhost:8080/"
        },
        "id": "Y7gFQCqQy5xJ",
        "outputId": "1f601db1-6061-4c45-cefa-09d04090e182"
      },
      "execution_count": 42,
      "outputs": [
        {
          "output_type": "stream",
          "name": "stdout",
          "text": [
            "\n",
            "Duplicate rows: 0\n"
          ]
        }
      ]
    },
    {
      "cell_type": "code",
      "source": [
        "# Rename columns\n",
        "df_renamed = df.rename(columns={'rownames': 'Names'})\n",
        "print(df_renamed.head())\n"
      ],
      "metadata": {
        "colab": {
          "base_uri": "https://localhost:8080/"
        },
        "id": "bYJ8fKGNzBAY",
        "outputId": "b197aad9-d610-4afc-c686-119607feb7c1"
      },
      "execution_count": 43,
      "outputs": [
        {
          "output_type": "stream",
          "name": "stdout",
          "text": [
            "   Names  visits  exposure  children  age  income  health1  health2  access  \\\n",
            "0      1       0       100         1   24  14.500    0.495   -0.854    0.50   \n",
            "1      2       1        90         3   19   6.000    0.520   -0.969    0.17   \n",
            "2      3       0       106         4   17   8.377   -1.227    0.317    0.42   \n",
            "3      4       0       114         2   29   6.000   -1.524    0.457    0.33   \n",
            "4      5      11       115         1   26   8.500    0.173   -0.599    0.67   \n",
            "\n",
            "  married  gender ethnicity  school enroll program  \n",
            "0      no  female      cauc      13    yes    afdc  \n",
            "1      no  female      cauc      11    yes    afdc  \n",
            "2      no  female      cauc      12    yes    afdc  \n",
            "3      no  female      cauc      12    yes    afdc  \n",
            "4      no  female      cauc      16    yes    afdc  \n"
          ]
        }
      ]
    },
    {
      "cell_type": "code",
      "source": [
        "# Example: Binning a numeric column\n",
        "bins = [0, 6, 9, 12, 16]\n",
        "labels = ['Low', 'Medium', 'High', 'Very High']\n",
        "df['newincome'] = pd.cut(df['income'], bins=bins, labels=labels)\n",
        "\n",
        "# Checking binning result\n",
        "print(df[['income', 'newincome']].head())\n",
        "\n"
      ],
      "metadata": {
        "colab": {
          "base_uri": "https://localhost:8080/"
        },
        "id": "QB11KsW9zDy0",
        "outputId": "04d791c5-3d70-47c0-93e3-d9ccf218995c"
      },
      "execution_count": 44,
      "outputs": [
        {
          "output_type": "stream",
          "name": "stdout",
          "text": [
            "   income  newincome\n",
            "0  14.500  Very High\n",
            "1   6.000        Low\n",
            "2   8.377     Medium\n",
            "3   6.000        Low\n",
            "4   8.500     Medium\n"
          ]
        }
      ]
    },
    {
      "cell_type": "code",
      "source": [
        "# Detect outliers based on a threshold\n",
        "outliers = df[df['exposure'] > 112]\n",
        "print(outliers)\n"
      ],
      "metadata": {
        "colab": {
          "base_uri": "https://localhost:8080/"
        },
        "id": "oOK0qDza0-ts",
        "outputId": "b5cedc8f-d52f-45c8-8756-567e4ea11dff"
      },
      "execution_count": 45,
      "outputs": [
        {
          "output_type": "stream",
          "name": "stdout",
          "text": [
            "     rownames  visits  exposure  children  age  income  health1  health2  \\\n",
            "3           4       0       114         2   29   6.000   -1.524    0.457   \n",
            "4           5      11       115         1   26   8.500    0.173   -0.599   \n",
            "8           9       1       117         1   21   6.000   -1.227    0.317   \n",
            "13         14       5       117         2   21   6.000   -0.260   -0.447   \n",
            "14         15       3       114         1   34   4.000    0.198   -0.714   \n",
            "..        ...     ...       ...       ...  ...     ...      ...      ...   \n",
            "989       990      12       114         0   78   8.500    1.822    0.298   \n",
            "990       991       0       117         0   67  11.500   -0.209   -0.122   \n",
            "993       994      10       116         1   70   6.000    2.660   -0.723   \n",
            "994       995       3       118         0   73   6.000    0.813    0.056   \n",
            "995       996       0       115         2   71  10.444   -2.113    0.236   \n",
            "\n",
            "     access married  gender ethnicity  school enroll program newincome  \n",
            "3      0.33      no  female      cauc      12    yes    afdc       Low  \n",
            "4      0.67      no  female      cauc      16    yes    afdc    Medium  \n",
            "8      0.25      no  female      cauc      12    yes    afdc       Low  \n",
            "13     0.58      no  female     other       9    yes    afdc       Low  \n",
            "14     0.67      no  female      cauc      18    yes    afdc       Low  \n",
            "..      ...     ...     ...       ...     ...    ...     ...       ...  \n",
            "989    0.33      no  female      cauc      13     no     ssi    Medium  \n",
            "990    0.58     yes  female     other       6     no     ssi      High  \n",
            "993    0.17      no  female      cauc       8     no     ssi       Low  \n",
            "994    0.17      no  female      cauc      12     no     ssi       Low  \n",
            "995    0.42     yes    male     other      14     no     ssi      High  \n",
            "\n",
            "[229 rows x 16 columns]\n"
          ]
        }
      ]
    },
    {
      "cell_type": "code",
      "source": [
        "# Random sampling without replacement\n",
        "sampled_df = df.sample(n=10, random_state=42)\n",
        "print(sampled_df)\n",
        "\n",
        "# Random sampling with replacement\n",
        "sampled_df_with_replacement = df.sample(n=10, replace=True, random_state=42)\n",
        "print(sampled_df_with_replacement)"
      ],
      "metadata": {
        "colab": {
          "base_uri": "https://localhost:8080/"
        },
        "id": "Mu6VVATs1eMx",
        "outputId": "35dd3b9f-8188-4de7-9c0b-aecd75a428e4"
      },
      "execution_count": 46,
      "outputs": [
        {
          "output_type": "stream",
          "name": "stdout",
          "text": [
            "     rownames  visits  exposure  children  age  income  health1  health2  \\\n",
            "832       833       0       108         0   82   8.500   -1.672   -0.031   \n",
            "970       971       7        91         0   81   7.839    2.100    0.586   \n",
            "96         97       0       117         4   34   8.500   -0.471   -0.090   \n",
            "587       588       0        98         0   73   6.000   -2.264    0.347   \n",
            "450       451       0       117         1   41   6.000   -1.227    0.317   \n",
            "266       267      10       100         2   22   6.000   -1.066    0.189   \n",
            "290       291       0        52         1   25   6.000   -1.227    0.317   \n",
            "158       159       0       116         1   50  17.500    0.446    1.121   \n",
            "668       669       2       110         2   76   8.500   -0.776   -0.631   \n",
            "572       573       2       118         0   85   7.990   -0.928   -0.521   \n",
            "\n",
            "     access married  gender ethnicity  school enroll program newincome  \n",
            "832    0.38      no  female      cauc       9     no     ssi    Medium  \n",
            "970    0.33      no  female      cauc       0     no     ssi    Medium  \n",
            "96     0.33     yes  female     other      12    yes    afdc    Medium  \n",
            "587    0.25      no  female      cauc      12    yes     ssi       Low  \n",
            "450    0.42      no  female     other       9     no    afdc       Low  \n",
            "266    0.25      no  female     other      10     no    afdc       Low  \n",
            "290    0.58      no  female      cauc      13     no    afdc       Low  \n",
            "158    0.50      no  female     other       3    yes    afdc       NaN  \n",
            "668    0.33      no  female      cauc       3    yes     ssi    Medium  \n",
            "572    0.67      no  female      cauc      14    yes     ssi    Medium  \n",
            "     rownames  visits  exposure  children  age  income  health1  health2  \\\n",
            "102       103       0       113         2   35    8.50   -0.583   -0.193   \n",
            "435       436       9       107         1   53    6.00    7.217    1.038   \n",
            "860       861       1       103         0   96    6.00   -1.451   -0.165   \n",
            "270       271       1       113         2   35    2.50   -0.030    2.038   \n",
            "106       107       0        90         3   27    6.00   -1.524    0.457   \n",
            "71         72       2       115         2   38    6.85    0.792   -0.994   \n",
            "700       701       1       108         0   93   11.50    1.148    0.764   \n",
            "20         21       0       110         4   42    8.50    0.581   -0.637   \n",
            "614       615       0       106         0   84    6.00    2.157    0.628   \n",
            "121       122       1       100         1   33    8.50   -1.066    0.189   \n",
            "\n",
            "     access married  gender ethnicity  school enroll program newincome  \n",
            "102    0.50      no  female      cauc      14    yes    afdc    Medium  \n",
            "435    0.00      no  female      cauc      10     no    afdc       Low  \n",
            "860    0.58      no  female      cauc       8     no     ssi       Low  \n",
            "270    0.33      no    male      cauc      12     no    afdc       Low  \n",
            "106    0.67      no  female      cauc      12    yes    afdc       Low  \n",
            "71     0.42      no  female     other      12    yes    afdc    Medium  \n",
            "700    0.50     yes  female      cauc      12    yes     ssi      High  \n",
            "20     0.42      no  female     other      10    yes    afdc    Medium  \n",
            "614    0.50      no    male      cauc       0    yes     ssi       Low  \n",
            "121    0.00      no  female      cauc      14    yes    afdc    Medium  \n"
          ]
        }
      ]
    },
    {
      "cell_type": "code",
      "source": [
        "# Convert categorical columns into dummy/indicator variables\n",
        "df_dummies = pd.get_dummies(df['ethnicity'], prefix='Category')\n",
        "print(df_dummies)"
      ],
      "metadata": {
        "colab": {
          "base_uri": "https://localhost:8080/"
        },
        "id": "aE2H56YX3KE6",
        "outputId": "61fee586-2ed9-4ec8-d94c-33b07d81d601"
      },
      "execution_count": 47,
      "outputs": [
        {
          "output_type": "stream",
          "name": "stdout",
          "text": [
            "     Category_cauc  Category_other\n",
            "0             True           False\n",
            "1             True           False\n",
            "2             True           False\n",
            "3             True           False\n",
            "4             True           False\n",
            "..             ...             ...\n",
            "991           True           False\n",
            "992           True           False\n",
            "993           True           False\n",
            "994           True           False\n",
            "995          False            True\n",
            "\n",
            "[996 rows x 2 columns]\n"
          ]
        }
      ]
    },
    {
      "cell_type": "code",
      "source": [
        "import numpy as np\n",
        "\n",
        "df_replaced = df.replace({'age': {24: 19}})\n",
        "\n",
        "# Replace multiple values in a column\n",
        "df_replaced_multiple = df.replace({'school': {13: 11, 12: 16}})\n",
        "\n",
        "# Check the result\n",
        "print(df_replaced.head())\n",
        "print(df_replaced_multiple.head())\n"
      ],
      "metadata": {
        "colab": {
          "base_uri": "https://localhost:8080/"
        },
        "id": "PN1Oh-_r3l03",
        "outputId": "8239e162-a56b-4872-fed6-ca0d4257023b"
      },
      "execution_count": 50,
      "outputs": [
        {
          "output_type": "stream",
          "name": "stdout",
          "text": [
            "   rownames  visits  exposure  children  age  income  health1  health2  \\\n",
            "0         1       0       100         1   19  14.500    0.495   -0.854   \n",
            "1         2       1        90         3   19   6.000    0.520   -0.969   \n",
            "2         3       0       106         4   17   8.377   -1.227    0.317   \n",
            "3         4       0       114         2   29   6.000   -1.524    0.457   \n",
            "4         5      11       115         1   26   8.500    0.173   -0.599   \n",
            "\n",
            "   access married  gender ethnicity  school enroll program  newincome  \n",
            "0    0.50      no  female      cauc      13    yes    afdc  Very High  \n",
            "1    0.17      no  female      cauc      11    yes    afdc        Low  \n",
            "2    0.42      no  female      cauc      12    yes    afdc     Medium  \n",
            "3    0.33      no  female      cauc      12    yes    afdc        Low  \n",
            "4    0.67      no  female      cauc      16    yes    afdc     Medium  \n",
            "   rownames  visits  exposure  children  age  income  health1  health2  \\\n",
            "0         1       0       100         1   24  14.500    0.495   -0.854   \n",
            "1         2       1        90         3   19   6.000    0.520   -0.969   \n",
            "2         3       0       106         4   17   8.377   -1.227    0.317   \n",
            "3         4       0       114         2   29   6.000   -1.524    0.457   \n",
            "4         5      11       115         1   26   8.500    0.173   -0.599   \n",
            "\n",
            "   access married  gender ethnicity  school enroll program  newincome  \n",
            "0    0.50      no  female      cauc      11    yes    afdc  Very High  \n",
            "1    0.17      no  female      cauc      11    yes    afdc        Low  \n",
            "2    0.42      no  female      cauc      16    yes    afdc     Medium  \n",
            "3    0.33      no  female      cauc      16    yes    afdc        Low  \n",
            "4    0.67      no  female      cauc      16    yes    afdc     Medium  \n"
          ]
        }
      ]
    },
    {
      "cell_type": "code",
      "source": [
        "df_pivoted = df.pivot(index='rownames', columns='visits', values='school')\n",
        "\n",
        "# Check the result\n",
        "print(df_pivoted.head(3))\n"
      ],
      "metadata": {
        "colab": {
          "base_uri": "https://localhost:8080/"
        },
        "id": "S4MEe5gQ65mt",
        "outputId": "19078d11-bdb4-4840-c219-4149454741d5"
      },
      "execution_count": 53,
      "outputs": [
        {
          "output_type": "stream",
          "name": "stdout",
          "text": [
            "visits      0     1   2   3   4   5   6   7   8   9   10  11  12  13  14  15  \\\n",
            "rownames                                                                       \n",
            "1         13.0   NaN NaN NaN NaN NaN NaN NaN NaN NaN NaN NaN NaN NaN NaN NaN   \n",
            "2          NaN  11.0 NaN NaN NaN NaN NaN NaN NaN NaN NaN NaN NaN NaN NaN NaN   \n",
            "3         12.0   NaN NaN NaN NaN NaN NaN NaN NaN NaN NaN NaN NaN NaN NaN NaN   \n",
            "\n",
            "visits    16  24  48  50  \n",
            "rownames                  \n",
            "1        NaN NaN NaN NaN  \n",
            "2        NaN NaN NaN NaN  \n",
            "3        NaN NaN NaN NaN  \n"
          ]
        }
      ]
    }
  ]
}